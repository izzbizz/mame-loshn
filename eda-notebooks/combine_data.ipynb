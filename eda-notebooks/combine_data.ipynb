{
 "cells": [
  {
   "cell_type": "code",
   "execution_count": 2,
   "metadata": {},
   "outputs": [],
   "source": [
    "import glob\n",
    "import pandas as pd\n",
    "from matplotlib import pyplot as plt"
   ]
  },
  {
   "cell_type": "code",
   "execution_count": 3,
   "metadata": {},
   "outputs": [],
   "source": [
    "files = glob.glob('data/processed-parallel/*.csv')"
   ]
  },
  {
   "cell_type": "code",
   "execution_count": 4,
   "metadata": {},
   "outputs": [],
   "source": [
    "files = ['data/processed-parallel/nli.csv',\n",
    "         'data/processed-parallel/songs.csv',\n",
    "         'data/processed-parallel/names.csv',\n",
    "         'data/processed-parallel/yiddishland.csv',\n",
    "         'data/processed-parallel/nouns.csv',\n",
    "         'data/processed-parallel/refoyl.csv',\n",
    "         'data/processed-parallel/brandeis.csv',\n",
    "         'data/processed-parallel/ybc.csv',\n",
    "         'data/processed-parallel/proverbs.csv',\n",
    "         'data/processed-parallel/hebis.csv',\n",
    "         'data/processed-parallel/lerman.csv',\n",
    "         'data/processed-parallel/verterbukh.csv',\n",
    "         'data/processed-parallel/wiktionary.csv']"
   ]
  },
  {
   "cell_type": "code",
   "execution_count": 5,
   "metadata": {},
   "outputs": [],
   "source": [
    "dfs = [pd.read_csv(file) for file in files]"
   ]
  },
  {
   "cell_type": "code",
   "execution_count": 6,
   "metadata": {},
   "outputs": [],
   "source": [
    "df = pd.concat(dfs)"
   ]
  },
  {
   "cell_type": "code",
   "execution_count": 7,
   "metadata": {},
   "outputs": [
    {
     "data": {
      "text/plain": [
       "(201526, 174879)"
      ]
     },
     "execution_count": 7,
     "metadata": {},
     "output_type": "execute_result"
    }
   ],
   "source": [
    "len(df), len(df.drop_duplicates(['yiddish', 'translit']))"
   ]
  },
  {
   "cell_type": "code",
   "execution_count": 8,
   "metadata": {},
   "outputs": [
    {
     "data": {
      "text/plain": [
       "source\n",
       "brandeis        11338\n",
       "hebis            5322\n",
       "jonne            2720\n",
       "jonne-yivo       2750\n",
       "lerman           1579\n",
       "nli             12173\n",
       "refoyl         127719\n",
       "verterbukh       1998\n",
       "wikidata         1832\n",
       "wiktionary      10013\n",
       "ybc             18011\n",
       "yiddish-wit      1082\n",
       "yidlid           2362\n",
       "yivo             2627\n",
       "dtype: int64"
      ]
     },
     "execution_count": 8,
     "metadata": {},
     "output_type": "execute_result"
    }
   ],
   "source": [
    "df.groupby('source').size()"
   ]
  },
  {
   "cell_type": "code",
   "execution_count": 9,
   "metadata": {},
   "outputs": [
    {
     "data": {
      "image/png": "[encoded data removed]",
      "text/plain": [
       "<Figure size 432x288 with 1 Axes>"
      ]
     },
     "metadata": {
      "needs_background": "light"
     },
     "output_type": "display_data"
    }
   ],
   "source": [
    "df.drop_duplicates().groupby('source').size().plot.bar()\n",
    "plt.show()"
   ]
  },
  {
   "cell_type": "code",
   "execution_count": 12,
   "metadata": {},
   "outputs": [
    {
     "data": {
      "text/plain": [
       "yiddish\n",
       "שלמה            51\n",
       "ישראל           47\n",
       "און             41\n",
       "משה             39\n",
       "אין             38\n",
       "געשיכטע         37\n",
       "דער             36\n",
       "יצחק            32\n",
       "שמואל           30\n",
       "חורבן           28\n",
       "אברהם           27\n",
       "דערציילונגען    27\n",
       "שלום            27\n",
       "חיים            27\n",
       "די              26\n",
       "מיט             26\n",
       "קינדער          25\n",
       "רבי             25\n",
       "דוד             24\n",
       "וועגן           23\n",
       "dtype: int64"
      ]
     },
     "execution_count": 12,
     "metadata": {},
     "output_type": "execute_result"
    }
   ],
   "source": [
    "df.groupby('yiddish').size().sort_values(ascending=False).head(20)"
   ]
  },
  {
   "cell_type": "code",
   "execution_count": 24,
   "metadata": {},
   "outputs": [],
   "source": [
    "words = df.groupby('yiddish').size().sort_values(ascending=False).head(20).index.to_list()"
   ]
  },
  {
   "cell_type": "code",
   "execution_count": 46,
   "metadata": {},
   "outputs": [
    {
     "data": {
      "text/html": [
       "<div>\n",
       "<style scoped>\n",
       "    .dataframe tbody tr th:only-of-type {\n",
       "        vertical-align: middle;\n",
       "    }\n",
       "\n",
       "    .dataframe tbody tr th {\n",
       "        vertical-align: top;\n",
       "    }\n",
       "\n",
       "    .dataframe thead th {\n",
       "        text-align: right;\n",
       "    }\n",
       "</style>\n",
       "<table border=\"1\" class=\"dataframe\">\n",
       "  <thead>\n",
       "    <tr style=\"text-align: right;\">\n",
       "      <th></th>\n",
       "      <th>yiddish</th>\n",
       "      <th>translit</th>\n",
       "      <th>source</th>\n",
       "    </tr>\n",
       "  </thead>\n",
       "  <tbody>\n",
       "    <tr>\n",
       "      <th>296</th>\n",
       "      <td>וועגן</td>\n",
       "      <td>vegn</td>\n",
       "      <td>nli</td>\n",
       "    </tr>\n",
       "    <tr>\n",
       "      <th>2804</th>\n",
       "      <td>וועגן</td>\n",
       "      <td>venn</td>\n",
       "      <td>nli</td>\n",
       "    </tr>\n",
       "    <tr>\n",
       "      <th>2972</th>\n",
       "      <td>וועגן</td>\n",
       "      <td>svive</td>\n",
       "      <td>nli</td>\n",
       "    </tr>\n",
       "    <tr>\n",
       "      <th>3159</th>\n",
       "      <td>וועגן</td>\n",
       "      <td>Vegn</td>\n",
       "      <td>nli</td>\n",
       "    </tr>\n",
       "    <tr>\n",
       "      <th>4102</th>\n",
       "      <td>וועגן</td>\n",
       "      <td>vebn</td>\n",
       "      <td>nli</td>\n",
       "    </tr>\n",
       "    <tr>\n",
       "      <th>6661</th>\n",
       "      <td>וועגן</td>\n",
       "      <td>vegen</td>\n",
       "      <td>nli</td>\n",
       "    </tr>\n",
       "    <tr>\n",
       "      <th>2154</th>\n",
       "      <td>וועגן</td>\n",
       "      <td>vegn</td>\n",
       "      <td>yidlid</td>\n",
       "    </tr>\n",
       "    <tr>\n",
       "      <th>7059</th>\n",
       "      <td>וועגן</td>\n",
       "      <td>Ṿegn</td>\n",
       "      <td>brandeis</td>\n",
       "    </tr>\n",
       "    <tr>\n",
       "      <th>8791</th>\n",
       "      <td>וועגן</td>\n",
       "      <td>ṿegn</td>\n",
       "      <td>brandeis</td>\n",
       "    </tr>\n",
       "    <tr>\n",
       "      <th>9835</th>\n",
       "      <td>וועגן</td>\n",
       "      <td>Vegn</td>\n",
       "      <td>brandeis</td>\n",
       "    </tr>\n",
       "    <tr>\n",
       "      <th>9882</th>\n",
       "      <td>וועגן</td>\n",
       "      <td>vegn</td>\n",
       "      <td>brandeis</td>\n",
       "    </tr>\n",
       "    <tr>\n",
       "      <th>10473</th>\n",
       "      <td>וועגן</td>\n",
       "      <td>Ṿegen</td>\n",
       "      <td>brandeis</td>\n",
       "    </tr>\n",
       "    <tr>\n",
       "      <th>51</th>\n",
       "      <td>וועגן</td>\n",
       "      <td>ṿegn</td>\n",
       "      <td>ybc</td>\n",
       "    </tr>\n",
       "    <tr>\n",
       "      <th>2081</th>\n",
       "      <td>וועגן</td>\n",
       "      <td>Ṿegn</td>\n",
       "      <td>ybc</td>\n",
       "    </tr>\n",
       "    <tr>\n",
       "      <th>2474</th>\n",
       "      <td>וועגן</td>\n",
       "      <td>vegn</td>\n",
       "      <td>ybc</td>\n",
       "    </tr>\n",
       "    <tr>\n",
       "      <th>2494</th>\n",
       "      <td>וועגן</td>\n",
       "      <td>ṿegen</td>\n",
       "      <td>ybc</td>\n",
       "    </tr>\n",
       "    <tr>\n",
       "      <th>3179</th>\n",
       "      <td>וועגן</td>\n",
       "      <td>Ṿegen</td>\n",
       "      <td>ybc</td>\n",
       "    </tr>\n",
       "    <tr>\n",
       "      <th>314</th>\n",
       "      <td>וועגן</td>\n",
       "      <td>vegn</td>\n",
       "      <td>yiddish-wit</td>\n",
       "    </tr>\n",
       "    <tr>\n",
       "      <th>348</th>\n",
       "      <td>וועגן</td>\n",
       "      <td>Vegn</td>\n",
       "      <td>yiddish-wit</td>\n",
       "    </tr>\n",
       "    <tr>\n",
       "      <th>216</th>\n",
       "      <td>וועגן</td>\n",
       "      <td>ṿegn</td>\n",
       "      <td>hebis</td>\n",
       "    </tr>\n",
       "    <tr>\n",
       "      <th>597</th>\n",
       "      <td>וועגן</td>\n",
       "      <td>wegn</td>\n",
       "      <td>hebis</td>\n",
       "    </tr>\n",
       "    <tr>\n",
       "      <th>46</th>\n",
       "      <td>וועגן</td>\n",
       "      <td>vegn</td>\n",
       "      <td>lerman</td>\n",
       "    </tr>\n",
       "    <tr>\n",
       "      <th>4904</th>\n",
       "      <td>וועגן</td>\n",
       "      <td>vog</td>\n",
       "      <td>wiktionary</td>\n",
       "    </tr>\n",
       "  </tbody>\n",
       "</table>\n",
       "</div>"
      ],
      "text/plain": [
       "      yiddish translit       source\n",
       "296     וועגן     vegn          nli\n",
       "2804    וועגן     venn          nli\n",
       "2972    וועגן    svive          nli\n",
       "3159    וועגן     Vegn          nli\n",
       "4102    וועגן     vebn          nli\n",
       "6661    וועגן    vegen          nli\n",
       "2154    וועגן     vegn       yidlid\n",
       "7059    וועגן     Ṿegn     brandeis\n",
       "8791    וועגן     ṿegn     brandeis\n",
       "9835    וועגן     Vegn     brandeis\n",
       "9882    וועגן     vegn     brandeis\n",
       "10473   וועגן    Ṿegen     brandeis\n",
       "51      וועגן     ṿegn          ybc\n",
       "2081    וועגן     Ṿegn          ybc\n",
       "2474    וועגן     vegn          ybc\n",
       "2494    וועגן    ṿegen          ybc\n",
       "3179    וועגן    Ṿegen          ybc\n",
       "314     וועגן     vegn  yiddish-wit\n",
       "348     וועגן     Vegn  yiddish-wit\n",
       "216     וועגן     ṿegn        hebis\n",
       "597     וועגן     wegn        hebis\n",
       "46      וועגן     vegn       lerman\n",
       "4904    וועגן      vog   wiktionary"
      ]
     },
     "execution_count": 46,
     "metadata": {},
     "output_type": "execute_result"
    }
   ],
   "source": [
    "df[df.yiddish == words[19]]"
   ]
  },
  {
   "cell_type": "code",
   "execution_count": 21,
   "metadata": {},
   "outputs": [
    {
     "data": {
      "text/plain": [
       "{'brandeis',\n",
       " 'hebis',\n",
       " 'jonne',\n",
       " 'jonne-yivo',\n",
       " 'lerman',\n",
       " 'nli',\n",
       " 'refoyl',\n",
       " 'verterbukh',\n",
       " 'wikidata',\n",
       " 'ybc',\n",
       " 'yiddish-wit',\n",
       " 'yidlid',\n",
       " 'yivo'}"
      ]
     },
     "execution_count": 21,
     "metadata": {},
     "output_type": "execute_result"
    }
   ],
   "source": [
    "set(df.source)"
   ]
  },
  {
   "cell_type": "code",
   "execution_count": 47,
   "metadata": {},
   "outputs": [],
   "source": [
    "df['yivo'] = df.source.apply(lambda x: x in (['jonne-yivo', 'lerman', 'refoyl', 'yiddish-wit', 'yidlid', 'yivo', 'verterbukh', 'wiktionary']))"
   ]
  },
  {
   "cell_type": "code",
   "execution_count": 48,
   "metadata": {},
   "outputs": [],
   "source": [
    "df.to_csv('data/processed-parallel/words.csv', index=False)"
   ]
  }
 ],
 "metadata": {
  "kernelspec": {
   "display_name": "kohan",
   "language": "python",
   "name": "kohan"
  },
  "language_info": {
   "codemirror_mode": {
    "name": "ipython",
    "version": 3
   },
   "file_extension": ".py",
   "mimetype": "text/x-python",
   "name": "python",
   "nbconvert_exporter": "python",
   "pygments_lexer": "ipython3",
   "version": "3.7.10"
  }
 },
 "nbformat": 4,
 "nbformat_minor": 4
}
